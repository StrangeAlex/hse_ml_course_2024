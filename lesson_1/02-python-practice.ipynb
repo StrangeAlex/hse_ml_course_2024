{
 "cells": [
  {
   "cell_type": "markdown",
   "metadata": {},
   "source": [
    "# Практика 1\n",
    "\n",
    "Оно же в коллабе\n",
    "\n",
    "https://colab.research.google.com/drive/1e25hWxFg3XVkAnevi4RJIMzC4Rt-AfL1?usp=sharing"
   ]
  },
  {
   "cell_type": "markdown",
   "metadata": {
    "id": "GfgwsZbGcTCQ"
   },
   "source": [
    "# Git\n",
    "\n",
    "`git init` - инициализировать репозиторий\n",
    "\n",
    "`git add .` - добавить все файлы к отслеживанию\n",
    "\n",
    "`git commit -m \"commit message\"` - сделать коммит с названием commit message\n",
    "\n",
    "`git push origin master` - сделать пуш в удаленный репозиторий origin в ветку master\n",
    "\n",
    "`git pull` - подтянуть изменения\n",
    "\n",
    "`git branch new-feature` - сделать ветку new-feature\n",
    "\n",
    "`git checkout new-feature` - перейти на ветку new-feature\n",
    "\n",
    "`git log` - посмотреть историю коммитов\n",
    "\n",
    "`git log --all --decorate --oneline --graph` - посмотреть красивую историю коммитов\n",
    "\n",
    "`git checkout 978be83` - перейти к коммиту 978be83\n",
    "\n",
    "При создании репозитория на github, будут написаны команды как запушить код в первый раз"
   ]
  },
  {
   "cell_type": "markdown",
   "metadata": {
    "id": "cvMlmEBJceX5"
   },
   "source": [
    "## Задача - учимся коммитить\n",
    "\n",
    "Последовательно сделать следующее:\n",
    "\n",
    "1. Создать новую папку test_git\n",
    "\n",
    "2. Инициализировать репозиторий\n",
    "\n",
    "3. Сделать текстовый файл 1.txt, заполнить его по своему усмотрению\n",
    "\n",
    "4. Сделать коммит\n",
    "\n",
    "5. Сделать новую ветку second-file, перейти в нее\n",
    "\n",
    "6. Закоммитить новый файл 2.txt с произвольным содержимым\n",
    "\n",
    "7. Перейти к master-ветке, проверить, что файл 2.txt остался в другой ветке\n",
    "\n",
    "8. Замержить ветку second-file в master"
   ]
  },
  {
   "cell_type": "markdown",
   "metadata": {
    "id": "WnO8pWoiclMK"
   },
   "source": [
    "## Задача - создаем конфликты\n",
    "\n",
    "1. В ветке master создаем файл 3.txt и что-то туда пишем\n",
    "2. В ветке second-file создаем файл 3.txt и пишем туда что-то другое\n",
    "3. Мержим second-file в master и решаем конфликт"
   ]
  },
  {
   "cell_type": "markdown",
   "metadata": {
    "id": "aropHxQVdP2p"
   },
   "source": [
    "## Материалы по питону (для самых заинтересованных)\n",
    "\n",
    "https://drive.google.com/drive/folders/1EdPbnImcIt0Hrjy56FveACdM-uc2anCP?usp=sharing"
   ]
  },
  {
   "cell_type": "markdown",
   "metadata": {
    "id": "zOwAopRPhz5Q"
   },
   "source": [
    "## Задача 1.\n",
    "\n",
    "Нужно написать функцию, которая определяет, является ли переданная строка палиндромом.\n",
    "\n",
    "Примеры палиндромов:\n",
    "- Казак\n",
    "- А роза упала на лапу Азора\n",
    "- Do geese see God?\n",
    "- Madam, I’m Adam\n",
    "\n",
    "Ограничение по памяти - исходную строку нельзя копировать.\n",
    "\n",
    "Необходимо исключить все non alpha-numerical символы, и считать большие и маленькие буквы равными.\n",
    "\n"
   ]
  },
  {
   "cell_type": "code",
   "execution_count": null,
   "metadata": {
    "id": "W9iIsD87jVeo"
   },
   "outputs": [],
   "source": [
    "def solution_1(s):\n",
    "    pass"
   ]
  },
  {
   "cell_type": "code",
   "execution_count": null,
   "metadata": {
    "id": "Uo8dSXWsiuWz"
   },
   "outputs": [],
   "source": [
    "import re\n",
    "\n",
    "examples = [\n",
    "    'Казак',\n",
    "    'А роза упала на лапу Азора',\n",
    "    'Do geese see God?',\n",
    "    'Madam, I’m Adam'\n",
    "]\n",
    "\n",
    "def test_solution_1():\n",
    "    def non_optimal_solution(s):\n",
    "        regex = re.compile('[^a-zA-Zа-яА-Я]')\n",
    "        clean = regex.sub('', s).lower()\n",
    "        return clean == clean[::-1]\n",
    "\n",
    "    for example in examples:\n",
    "        assert non_optimal_solution(example) == solution_1(example)\n",
    "\n",
    "test_solution_1()"
   ]
  },
  {
   "cell_type": "markdown",
   "metadata": {
    "id": "gdpFNPfPitfd"
   },
   "source": [
    "## Задача 2.\n",
    "\n",
    "Дан текст T и строка S. Требуется найти подстроку S' в T такую, что она совпадает с S с точностью до перестановки букв.\n",
    "В качестве ответа стоит вернуть индекс первого вхождения, или -1, если такая подстрока S' не нашлась.\n",
    "\n",
    "Задача со звездочкой: решить за O(|T|)"
   ]
  },
  {
   "cell_type": "code",
   "execution_count": null,
   "metadata": {
    "id": "X1hLqxvVitLM"
   },
   "outputs": [],
   "source": [
    "def solution_2(t, s):\n",
    "    pass"
   ]
  },
  {
   "cell_type": "markdown",
   "metadata": {
    "id": "EugYe2AVTJnB"
   },
   "source": [
    "# Домашнее задание\n",
    "\n",
    "Установить Anaconda и Git. Создать репозиторий на GitHub.\n",
    "\n",
    "## Easy (+0.1)\n",
    "\n",
    "Написать функцию, которая на вход принимает список, а возвращает словарь со среднием, медианой и модой, например вот такой: `{\"mean\": ..., \"median\": ..., \"mode\": ...}`.\n",
    "\n",
    "Пример:\n",
    "\n",
    "```python\n",
    "\n",
    "func([0, 1, 1, 10, 5, 4, 3])\n",
    "\n",
    "# Должно вернуть: {\"mean\": 3.4285, \"median\": 3, \"mode\": 1}\n",
    "\n",
    "```\n",
    "\n",
    "## Medium (+0.4)\n",
    "\n",
    "https://www.kaggle.com/datasets/databanditofficial/dota-hero-stats\n",
    "\n",
    "Написать функцию, которая будет парсить csv-файл dota_hero_stats.csv\n",
    "\n",
    "Сигнатура функции:\n",
    "\n",
    "```\n",
    "def parse_csv(file_content: str) -> List[Dict]\n",
    "```\n",
    "\n",
    "Найти персонажа с максимальным количеством ног (сторонние библиотеки использовать нельзя)\n",
    "\n",
    "\n",
    "## Hard (+ в карму)\n",
    "\n",
    "Придумать меру близости между двумя персонажами, описать текстом, реализовать кодом. Мера должна использовать все содержательные колонки: attack_type, legs, primary_attr, roles\n",
    "\n",
    "Найти двух персонажей, которые наиболее близки друг к другу.\n",
    "\n",
    "Также нельзя использовать сторонние библиотеки.\n",
    "\n",
    "\n",
    "## Байка\n",
    "\n",
    "В реально жизни, конечно, уже написаны парсеры для основных форматов данных, но кто вам гарантирует, что ваши данные будут в нужном формате? Нужно уметь парсить разные странные форматы данных.\n",
    "\n",
    "Когда-то я работал в компании, которая не умела в DWH и хранила все данные в продовых базах. Ну, \"базах\". Это были терабайты xml-файлов, поверх которых была настроена репликация и прод умел быстро по ним искать. Конечно же, эти xml-файлы были неструктурированы, пришлось освоить специальный язык для индексации по xml-файлам - xpath - чтобы привести данные в хоть сколько-то табличный вид. Парсер имел отвратительный код, а данные на выходе были еще хуже. А через пару месяцев я уволился оттуда и дальше проект не полетел (надеюсь, это независимые события). Какой вывод? Держите данные в DWH в понятном и удобном формате и не храните данные в проде в xml."
   ]
  },
  {
   "cell_type": "code",
   "execution_count": 1,
   "metadata": {
    "id": "4w4pKwBBShQt",
    "ExecuteTime": {
     "end_time": "2024-01-19T13:26:25.705143800Z",
     "start_time": "2024-01-19T13:26:25.689400400Z"
    }
   },
   "outputs": [
    {
     "name": "stdout",
     "output_type": "stream",
     "text": [
      "hi!\n"
     ]
    }
   ],
   "source": [
    "print(\"hi!\")"
   ]
  },
  {
   "cell_type": "code",
   "execution_count": null,
   "outputs": [],
   "source": [],
   "metadata": {
    "collapsed": false
   }
  }
 ],
 "metadata": {
  "colab": {
   "provenance": []
  },
  "kernelspec": {
   "display_name": "Python 3 (ipykernel)",
   "language": "python",
   "name": "python3"
  },
  "language_info": {
   "codemirror_mode": {
    "name": "ipython",
    "version": 3
   },
   "file_extension": ".py",
   "mimetype": "text/x-python",
   "name": "python",
   "nbconvert_exporter": "python",
   "pygments_lexer": "ipython3",
   "version": "3.9.12"
  }
 },
 "nbformat": 4,
 "nbformat_minor": 4
}
