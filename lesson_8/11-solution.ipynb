{
 "cells": [
  {
   "cell_type": "markdown",
   "id": "f0844c7f-9ed7-47f7-9f9a-f5cd2f8701c8",
   "metadata": {},
   "source": [
    "# Датасет\n",
    "\n",
    "https://archive.ics.uci.edu/dataset/19/car+evaluation\n",
    "\n",
    "Лежит в `data/car_evaluation.csv`"
   ]
  },
  {
   "cell_type": "code",
   "execution_count": 1,
   "id": "5537ed77-06e5-45c0-a52e-60cc2cf52249",
   "metadata": {},
   "outputs": [
    {
     "data": {
      "text/html": [
       "<div>\n",
       "<style scoped>\n",
       "    .dataframe tbody tr th:only-of-type {\n",
       "        vertical-align: middle;\n",
       "    }\n",
       "\n",
       "    .dataframe tbody tr th {\n",
       "        vertical-align: top;\n",
       "    }\n",
       "\n",
       "    .dataframe thead th {\n",
       "        text-align: right;\n",
       "    }\n",
       "</style>\n",
       "<table border=\"1\" class=\"dataframe\">\n",
       "  <thead>\n",
       "    <tr style=\"text-align: right;\">\n",
       "      <th></th>\n",
       "      <th>buying price</th>\n",
       "      <th>maintenance cost</th>\n",
       "      <th>number of doors</th>\n",
       "      <th>number of persons</th>\n",
       "      <th>lug_boot</th>\n",
       "      <th>safety</th>\n",
       "      <th>decision</th>\n",
       "    </tr>\n",
       "  </thead>\n",
       "  <tbody>\n",
       "    <tr>\n",
       "      <th>0</th>\n",
       "      <td>vhigh</td>\n",
       "      <td>vhigh</td>\n",
       "      <td>2</td>\n",
       "      <td>2</td>\n",
       "      <td>small</td>\n",
       "      <td>low</td>\n",
       "      <td>unacc</td>\n",
       "    </tr>\n",
       "    <tr>\n",
       "      <th>1</th>\n",
       "      <td>vhigh</td>\n",
       "      <td>vhigh</td>\n",
       "      <td>2</td>\n",
       "      <td>2</td>\n",
       "      <td>small</td>\n",
       "      <td>med</td>\n",
       "      <td>unacc</td>\n",
       "    </tr>\n",
       "    <tr>\n",
       "      <th>2</th>\n",
       "      <td>vhigh</td>\n",
       "      <td>vhigh</td>\n",
       "      <td>2</td>\n",
       "      <td>2</td>\n",
       "      <td>small</td>\n",
       "      <td>high</td>\n",
       "      <td>unacc</td>\n",
       "    </tr>\n",
       "    <tr>\n",
       "      <th>3</th>\n",
       "      <td>vhigh</td>\n",
       "      <td>vhigh</td>\n",
       "      <td>2</td>\n",
       "      <td>2</td>\n",
       "      <td>med</td>\n",
       "      <td>low</td>\n",
       "      <td>unacc</td>\n",
       "    </tr>\n",
       "    <tr>\n",
       "      <th>4</th>\n",
       "      <td>vhigh</td>\n",
       "      <td>vhigh</td>\n",
       "      <td>2</td>\n",
       "      <td>2</td>\n",
       "      <td>med</td>\n",
       "      <td>med</td>\n",
       "      <td>unacc</td>\n",
       "    </tr>\n",
       "    <tr>\n",
       "      <th>...</th>\n",
       "      <td>...</td>\n",
       "      <td>...</td>\n",
       "      <td>...</td>\n",
       "      <td>...</td>\n",
       "      <td>...</td>\n",
       "      <td>...</td>\n",
       "      <td>...</td>\n",
       "    </tr>\n",
       "    <tr>\n",
       "      <th>1723</th>\n",
       "      <td>low</td>\n",
       "      <td>low</td>\n",
       "      <td>5more</td>\n",
       "      <td>more</td>\n",
       "      <td>med</td>\n",
       "      <td>med</td>\n",
       "      <td>good</td>\n",
       "    </tr>\n",
       "    <tr>\n",
       "      <th>1724</th>\n",
       "      <td>low</td>\n",
       "      <td>low</td>\n",
       "      <td>5more</td>\n",
       "      <td>more</td>\n",
       "      <td>med</td>\n",
       "      <td>high</td>\n",
       "      <td>vgood</td>\n",
       "    </tr>\n",
       "    <tr>\n",
       "      <th>1725</th>\n",
       "      <td>low</td>\n",
       "      <td>low</td>\n",
       "      <td>5more</td>\n",
       "      <td>more</td>\n",
       "      <td>big</td>\n",
       "      <td>low</td>\n",
       "      <td>unacc</td>\n",
       "    </tr>\n",
       "    <tr>\n",
       "      <th>1726</th>\n",
       "      <td>low</td>\n",
       "      <td>low</td>\n",
       "      <td>5more</td>\n",
       "      <td>more</td>\n",
       "      <td>big</td>\n",
       "      <td>med</td>\n",
       "      <td>good</td>\n",
       "    </tr>\n",
       "    <tr>\n",
       "      <th>1727</th>\n",
       "      <td>low</td>\n",
       "      <td>low</td>\n",
       "      <td>5more</td>\n",
       "      <td>more</td>\n",
       "      <td>big</td>\n",
       "      <td>high</td>\n",
       "      <td>vgood</td>\n",
       "    </tr>\n",
       "  </tbody>\n",
       "</table>\n",
       "<p>1728 rows × 7 columns</p>\n",
       "</div>"
      ],
      "text/plain": [
       "     buying price maintenance cost number of doors number of persons lug_boot  \\\n",
       "0           vhigh            vhigh               2                 2    small   \n",
       "1           vhigh            vhigh               2                 2    small   \n",
       "2           vhigh            vhigh               2                 2    small   \n",
       "3           vhigh            vhigh               2                 2      med   \n",
       "4           vhigh            vhigh               2                 2      med   \n",
       "...           ...              ...             ...               ...      ...   \n",
       "1723          low              low           5more              more      med   \n",
       "1724          low              low           5more              more      med   \n",
       "1725          low              low           5more              more      big   \n",
       "1726          low              low           5more              more      big   \n",
       "1727          low              low           5more              more      big   \n",
       "\n",
       "     safety decision  \n",
       "0       low    unacc  \n",
       "1       med    unacc  \n",
       "2      high    unacc  \n",
       "3       low    unacc  \n",
       "4       med    unacc  \n",
       "...     ...      ...  \n",
       "1723    med     good  \n",
       "1724   high    vgood  \n",
       "1725    low    unacc  \n",
       "1726    med     good  \n",
       "1727   high    vgood  \n",
       "\n",
       "[1728 rows x 7 columns]"
      ]
     },
     "execution_count": 1,
     "metadata": {},
     "output_type": "execute_result"
    }
   ],
   "source": [
    "import pandas as pd\n",
    "col_names =['buying price', 'maintenance cost', 'number of doors', \n",
    "            'number of persons', 'lug_boot' ,'safety', 'decision']\n",
    "\n",
    "df = pd.read_csv('../data/car_evaluation.csv', header=None, names=col_names)                \n",
    "df                "
   ]
  },
  {
   "cell_type": "code",
   "execution_count": 2,
   "id": "d25aa052-f7ef-4a99-be78-c1efa2da2298",
   "metadata": {},
   "outputs": [
    {
     "data": {
      "text/html": [
       "<div>\n",
       "<style scoped>\n",
       "    .dataframe tbody tr th:only-of-type {\n",
       "        vertical-align: middle;\n",
       "    }\n",
       "\n",
       "    .dataframe tbody tr th {\n",
       "        vertical-align: top;\n",
       "    }\n",
       "\n",
       "    .dataframe thead th {\n",
       "        text-align: right;\n",
       "    }\n",
       "</style>\n",
       "<table border=\"1\" class=\"dataframe\">\n",
       "  <thead>\n",
       "    <tr style=\"text-align: right;\">\n",
       "      <th></th>\n",
       "      <th>buying price</th>\n",
       "      <th>maintenance cost</th>\n",
       "      <th>number of doors</th>\n",
       "      <th>number of persons</th>\n",
       "      <th>lug_boot</th>\n",
       "      <th>safety</th>\n",
       "      <th>decision</th>\n",
       "    </tr>\n",
       "  </thead>\n",
       "  <tbody>\n",
       "    <tr>\n",
       "      <th>0</th>\n",
       "      <td>4</td>\n",
       "      <td>4</td>\n",
       "      <td>1</td>\n",
       "      <td>1</td>\n",
       "      <td>1</td>\n",
       "      <td>1</td>\n",
       "      <td>unacc</td>\n",
       "    </tr>\n",
       "    <tr>\n",
       "      <th>1</th>\n",
       "      <td>4</td>\n",
       "      <td>4</td>\n",
       "      <td>1</td>\n",
       "      <td>1</td>\n",
       "      <td>1</td>\n",
       "      <td>2</td>\n",
       "      <td>unacc</td>\n",
       "    </tr>\n",
       "    <tr>\n",
       "      <th>2</th>\n",
       "      <td>4</td>\n",
       "      <td>4</td>\n",
       "      <td>1</td>\n",
       "      <td>1</td>\n",
       "      <td>1</td>\n",
       "      <td>3</td>\n",
       "      <td>unacc</td>\n",
       "    </tr>\n",
       "    <tr>\n",
       "      <th>3</th>\n",
       "      <td>4</td>\n",
       "      <td>4</td>\n",
       "      <td>1</td>\n",
       "      <td>1</td>\n",
       "      <td>2</td>\n",
       "      <td>1</td>\n",
       "      <td>unacc</td>\n",
       "    </tr>\n",
       "    <tr>\n",
       "      <th>4</th>\n",
       "      <td>4</td>\n",
       "      <td>4</td>\n",
       "      <td>1</td>\n",
       "      <td>1</td>\n",
       "      <td>2</td>\n",
       "      <td>2</td>\n",
       "      <td>unacc</td>\n",
       "    </tr>\n",
       "  </tbody>\n",
       "</table>\n",
       "</div>"
      ],
      "text/plain": [
       "   buying price  maintenance cost  number of doors  number of persons  \\\n",
       "0             4                 4                1                  1   \n",
       "1             4                 4                1                  1   \n",
       "2             4                 4                1                  1   \n",
       "3             4                 4                1                  1   \n",
       "4             4                 4                1                  1   \n",
       "\n",
       "   lug_boot  safety decision  \n",
       "0         1       1    unacc  \n",
       "1         1       2    unacc  \n",
       "2         1       3    unacc  \n",
       "3         2       1    unacc  \n",
       "4         2       2    unacc  "
      ]
     },
     "execution_count": 2,
     "metadata": {},
     "output_type": "execute_result"
    }
   ],
   "source": [
    "d = {\n",
    "    \"low\" : 1,\n",
    "    \"med\" : 2,\n",
    "    \"high\" : 3,\n",
    "    \"vhigh\" : 4,\n",
    "    \"2\" : 1,\n",
    "    \"3\" : 2,\n",
    "    \"4\" : 3,\n",
    "    \"5\" : 4,\n",
    "    \"5more\" : 4,\n",
    "    \"more\" : 5,\n",
    "    \"small\" : 1,\n",
    "    \"big\" : 3,\n",
    "}\n",
    "for col in df.drop('decision', axis=1).columns:\n",
    "    df[col] = df[col].map(d)\n",
    "\n",
    "df.head(5)"
   ]
  },
  {
   "cell_type": "code",
   "execution_count": 3,
   "id": "0af0f633",
   "metadata": {},
   "outputs": [
    {
     "data": {
      "text/html": [
       "<div>\n",
       "<style scoped>\n",
       "    .dataframe tbody tr th:only-of-type {\n",
       "        vertical-align: middle;\n",
       "    }\n",
       "\n",
       "    .dataframe tbody tr th {\n",
       "        vertical-align: top;\n",
       "    }\n",
       "\n",
       "    .dataframe thead th {\n",
       "        text-align: right;\n",
       "    }\n",
       "</style>\n",
       "<table border=\"1\" class=\"dataframe\">\n",
       "  <thead>\n",
       "    <tr style=\"text-align: right;\">\n",
       "      <th></th>\n",
       "      <th>buying price</th>\n",
       "      <th>maintenance cost</th>\n",
       "      <th>number of doors</th>\n",
       "      <th>number of persons</th>\n",
       "      <th>lug_boot</th>\n",
       "      <th>safety</th>\n",
       "      <th>decision</th>\n",
       "    </tr>\n",
       "  </thead>\n",
       "  <tbody>\n",
       "    <tr>\n",
       "      <th>0</th>\n",
       "      <td>4</td>\n",
       "      <td>4</td>\n",
       "      <td>1</td>\n",
       "      <td>1</td>\n",
       "      <td>1</td>\n",
       "      <td>1</td>\n",
       "      <td>-2</td>\n",
       "    </tr>\n",
       "    <tr>\n",
       "      <th>1</th>\n",
       "      <td>4</td>\n",
       "      <td>4</td>\n",
       "      <td>1</td>\n",
       "      <td>1</td>\n",
       "      <td>1</td>\n",
       "      <td>2</td>\n",
       "      <td>-2</td>\n",
       "    </tr>\n",
       "    <tr>\n",
       "      <th>2</th>\n",
       "      <td>4</td>\n",
       "      <td>4</td>\n",
       "      <td>1</td>\n",
       "      <td>1</td>\n",
       "      <td>1</td>\n",
       "      <td>3</td>\n",
       "      <td>-2</td>\n",
       "    </tr>\n",
       "    <tr>\n",
       "      <th>3</th>\n",
       "      <td>4</td>\n",
       "      <td>4</td>\n",
       "      <td>1</td>\n",
       "      <td>1</td>\n",
       "      <td>2</td>\n",
       "      <td>1</td>\n",
       "      <td>-2</td>\n",
       "    </tr>\n",
       "    <tr>\n",
       "      <th>4</th>\n",
       "      <td>4</td>\n",
       "      <td>4</td>\n",
       "      <td>1</td>\n",
       "      <td>1</td>\n",
       "      <td>2</td>\n",
       "      <td>2</td>\n",
       "      <td>-2</td>\n",
       "    </tr>\n",
       "  </tbody>\n",
       "</table>\n",
       "</div>"
      ],
      "text/plain": [
       "   buying price  maintenance cost  number of doors  number of persons  \\\n",
       "0             4                 4                1                  1   \n",
       "1             4                 4                1                  1   \n",
       "2             4                 4                1                  1   \n",
       "3             4                 4                1                  1   \n",
       "4             4                 4                1                  1   \n",
       "\n",
       "   lug_boot  safety  decision  \n",
       "0         1       1        -2  \n",
       "1         1       2        -2  \n",
       "2         1       3        -2  \n",
       "3         2       1        -2  \n",
       "4         2       2        -2  "
      ]
     },
     "execution_count": 3,
     "metadata": {},
     "output_type": "execute_result"
    }
   ],
   "source": [
    "d_decision = {\n",
    "    \"unacc\" : -2,\n",
    "    \"acc\" : -1,\n",
    "    \"good\" : 1,\n",
    "    \"vgood\" : 2\n",
    "}\n",
    "df['decision'] = df['decision'].map(d_decision)\n",
    "df.head(5)"
   ]
  },
  {
   "cell_type": "markdown",
   "id": "812e054a-183d-4a81-9e6d-e35627a82e61",
   "metadata": {},
   "source": [
    "- buying price - стоимость покупки\n",
    "- maintenance cost - стоимость обслуживания\n",
    "- number of doors - колличество дверей\n",
    "- number of persons - колличество человек в машине\n",
    "- lug_boot - размер багажного отделения\n",
    "- safety - оценка безопасности машины\n",
    "- decision - таргет метка\n",
    "\n",
    "\n",
    "**Class Values:**\n",
    "\n",
    "unacc, acc, good, vgood\n",
    "\n",
    "**Attributes:**\n",
    "\n",
    "- buying: vhigh, high, med, low.\n",
    "- maint: vhigh, high, med, low.\n",
    "- doors: 2, 3, 4, 5more.\n",
    "- persons: 2, 4, more.\n",
    "- lug_boot: small, med, big.\n",
    "- safety: low, med, high."
   ]
  },
  {
   "cell_type": "code",
   "execution_count": 4,
   "id": "de6488c5",
   "metadata": {},
   "outputs": [],
   "source": [
    "from sklearn.tree import DecisionTreeClassifier\n",
    "from sklearn.ensemble import RandomForestClassifier\n",
    "from sklearn.linear_model import LogisticRegression\n",
    "from sklearn.model_selection import train_test_split\n",
    "from sklearn.metrics import accuracy_score\n",
    "from sklearn.model_selection import cross_validate, cross_val_score\n",
    "from sklearn.metrics import mean_squared_error\n",
    "import matplotlib.pyplot as plt"
   ]
  },
  {
   "cell_type": "code",
   "execution_count": 5,
   "id": "6686026d",
   "metadata": {},
   "outputs": [],
   "source": [
    "x = df.drop(columns=['decision'])\n",
    "y = df['decision']\n",
    "x_train, x_test, y_train, y_test = train_test_split(x, y, train_size=0.8, random_state=0)"
   ]
  },
  {
   "cell_type": "code",
   "execution_count": 6,
   "id": "a2b6537a",
   "metadata": {},
   "outputs": [
    {
     "data": {
      "text/html": [
       "<style>#sk-container-id-1 {color: black;background-color: white;}#sk-container-id-1 pre{padding: 0;}#sk-container-id-1 div.sk-toggleable {background-color: white;}#sk-container-id-1 label.sk-toggleable__label {cursor: pointer;display: block;width: 100%;margin-bottom: 0;padding: 0.3em;box-sizing: border-box;text-align: center;}#sk-container-id-1 label.sk-toggleable__label-arrow:before {content: \"▸\";float: left;margin-right: 0.25em;color: #696969;}#sk-container-id-1 label.sk-toggleable__label-arrow:hover:before {color: black;}#sk-container-id-1 div.sk-estimator:hover label.sk-toggleable__label-arrow:before {color: black;}#sk-container-id-1 div.sk-toggleable__content {max-height: 0;max-width: 0;overflow: hidden;text-align: left;background-color: #f0f8ff;}#sk-container-id-1 div.sk-toggleable__content pre {margin: 0.2em;color: black;border-radius: 0.25em;background-color: #f0f8ff;}#sk-container-id-1 input.sk-toggleable__control:checked~div.sk-toggleable__content {max-height: 200px;max-width: 100%;overflow: auto;}#sk-container-id-1 input.sk-toggleable__control:checked~label.sk-toggleable__label-arrow:before {content: \"▾\";}#sk-container-id-1 div.sk-estimator input.sk-toggleable__control:checked~label.sk-toggleable__label {background-color: #d4ebff;}#sk-container-id-1 div.sk-label input.sk-toggleable__control:checked~label.sk-toggleable__label {background-color: #d4ebff;}#sk-container-id-1 input.sk-hidden--visually {border: 0;clip: rect(1px 1px 1px 1px);clip: rect(1px, 1px, 1px, 1px);height: 1px;margin: -1px;overflow: hidden;padding: 0;position: absolute;width: 1px;}#sk-container-id-1 div.sk-estimator {font-family: monospace;background-color: #f0f8ff;border: 1px dotted black;border-radius: 0.25em;box-sizing: border-box;margin-bottom: 0.5em;}#sk-container-id-1 div.sk-estimator:hover {background-color: #d4ebff;}#sk-container-id-1 div.sk-parallel-item::after {content: \"\";width: 100%;border-bottom: 1px solid gray;flex-grow: 1;}#sk-container-id-1 div.sk-label:hover label.sk-toggleable__label {background-color: #d4ebff;}#sk-container-id-1 div.sk-serial::before {content: \"\";position: absolute;border-left: 1px solid gray;box-sizing: border-box;top: 0;bottom: 0;left: 50%;z-index: 0;}#sk-container-id-1 div.sk-serial {display: flex;flex-direction: column;align-items: center;background-color: white;padding-right: 0.2em;padding-left: 0.2em;position: relative;}#sk-container-id-1 div.sk-item {position: relative;z-index: 1;}#sk-container-id-1 div.sk-parallel {display: flex;align-items: stretch;justify-content: center;background-color: white;position: relative;}#sk-container-id-1 div.sk-item::before, #sk-container-id-1 div.sk-parallel-item::before {content: \"\";position: absolute;border-left: 1px solid gray;box-sizing: border-box;top: 0;bottom: 0;left: 50%;z-index: -1;}#sk-container-id-1 div.sk-parallel-item {display: flex;flex-direction: column;z-index: 1;position: relative;background-color: white;}#sk-container-id-1 div.sk-parallel-item:first-child::after {align-self: flex-end;width: 50%;}#sk-container-id-1 div.sk-parallel-item:last-child::after {align-self: flex-start;width: 50%;}#sk-container-id-1 div.sk-parallel-item:only-child::after {width: 0;}#sk-container-id-1 div.sk-dashed-wrapped {border: 1px dashed gray;margin: 0 0.4em 0.5em 0.4em;box-sizing: border-box;padding-bottom: 0.4em;background-color: white;}#sk-container-id-1 div.sk-label label {font-family: monospace;font-weight: bold;display: inline-block;line-height: 1.2em;}#sk-container-id-1 div.sk-label-container {text-align: center;}#sk-container-id-1 div.sk-container {/* jupyter's `normalize.less` sets `[hidden] { display: none; }` but bootstrap.min.css set `[hidden] { display: none !important; }` so we also need the `!important` here to be able to override the default hidden behavior on the sphinx rendered scikit-learn.org. See: https://github.com/scikit-learn/scikit-learn/issues/21755 */display: inline-block !important;position: relative;}#sk-container-id-1 div.sk-text-repr-fallback {display: none;}</style><div id=\"sk-container-id-1\" class=\"sk-top-container\"><div class=\"sk-text-repr-fallback\"><pre>DecisionTreeClassifier(max_depth=10)</pre><b>In a Jupyter environment, please rerun this cell to show the HTML representation or trust the notebook. <br />On GitHub, the HTML representation is unable to render, please try loading this page with nbviewer.org.</b></div><div class=\"sk-container\" hidden><div class=\"sk-item\"><div class=\"sk-estimator sk-toggleable\"><input class=\"sk-toggleable__control sk-hidden--visually\" id=\"sk-estimator-id-1\" type=\"checkbox\" checked><label for=\"sk-estimator-id-1\" class=\"sk-toggleable__label sk-toggleable__label-arrow\">DecisionTreeClassifier</label><div class=\"sk-toggleable__content\"><pre>DecisionTreeClassifier(max_depth=10)</pre></div></div></div></div></div>"
      ],
      "text/plain": [
       "DecisionTreeClassifier(max_depth=10)"
      ]
     },
     "execution_count": 6,
     "metadata": {},
     "output_type": "execute_result"
    }
   ],
   "source": [
    "model = DecisionTreeClassifier(max_depth=10)\n",
    "model.fit(x_train, y_train)"
   ]
  },
  {
   "cell_type": "code",
   "execution_count": 7,
   "id": "52e07dc3",
   "metadata": {},
   "outputs": [
    {
     "name": "stdout",
     "output_type": "stream",
     "text": [
      "Точность на обучающей выборке:  0.9985528219971056\n",
      "Точность на тестовой выборке:  0.9653179190751445\n"
     ]
    }
   ],
   "source": [
    "train_prediction = model.predict(x_train)\n",
    "test_prediction = model.predict(x_test)\n",
    "\n",
    "train_accuracy = accuracy_score(train_prediction, y_train)\n",
    "test_accuracy = accuracy_score(test_prediction, y_test)\n",
    "\n",
    "print('Точность на обучающей выборке: ', train_accuracy)\n",
    "print('Точность на тестовой выборке: ', test_accuracy)"
   ]
  },
  {
   "cell_type": "code",
   "execution_count": 8,
   "id": "b344d796",
   "metadata": {},
   "outputs": [
    {
     "data": {
      "text/plain": [
       "0.09248554913294797"
      ]
     },
     "execution_count": 8,
     "metadata": {},
     "output_type": "execute_result"
    }
   ],
   "source": [
    "mean_squared_error(test_prediction, y_test)"
   ]
  },
  {
   "cell_type": "markdown",
   "id": "3781ba9c-ad66-4609-a54b-351496a971f3",
   "metadata": {},
   "source": [
    "# Посчитаем кросс-валидацию"
   ]
  },
  {
   "cell_type": "code",
   "execution_count": 9,
   "id": "f155c97e-c5c6-4eb6-98f0-9ee4d0f0c0e9",
   "metadata": {},
   "outputs": [],
   "source": [
    "def mse_scorer(estimator, x, y):\n",
    "    return mean_squared_error(estimator.predict(x), y)"
   ]
  },
  {
   "cell_type": "code",
   "execution_count": 10,
   "id": "65ed1448",
   "metadata": {},
   "outputs": [
    {
     "data": {
      "image/png": "[encoded data removed]",
      "text/plain": [
       "<Figure size 640x480 with 1 Axes>"
      ]
     },
     "metadata": {},
     "output_type": "display_data"
    },
    {
     "data": {
      "image/png": "[encoded data removed]",
      "text/plain": [
       "<Figure size 640x480 with 1 Axes>"
      ]
     },
     "metadata": {},
     "output_type": "display_data"
    },
    {
     "data": {
      "image/png": "[encoded data removed]",
      "text/plain": [
       "<Figure size 640x480 with 1 Axes>"
      ]
     },
     "metadata": {},
     "output_type": "display_data"
    }
   ],
   "source": [
    "for model in [DecisionTreeClassifier(), RandomForestClassifier(100), LogisticRegression()]:\n",
    "    scores = cross_val_score(DecisionTreeClassifier(), x_train, y_train, cv=30, scoring=mse_scorer)\n",
    "    plt.figure()\n",
    "    plt.hist(scores)\n",
    "    plt.title(f'{model.__class__.__name__} mean mse {scores.mean():.2f}')"
   ]
  },
  {
   "cell_type": "markdown",
   "id": "8ccf6dc9-6997-491f-8ab8-d9e68833b5e8",
   "metadata": {},
   "source": [
    "Разница небольшая, статзначимую разницу скорее всего не получим, модели работают примерно одинаково, берем любую какая больше нравится"
   ]
  },
  {
   "cell_type": "markdown",
   "id": "87ea18ca-fa8e-4242-a66e-552e80e400b7",
   "metadata": {},
   "source": [
    "# Пример стекинга"
   ]
  },
  {
   "cell_type": "code",
   "execution_count": 11,
   "id": "0171470e-85a6-4c6f-8e6f-72f6d16f5552",
   "metadata": {},
   "outputs": [],
   "source": [
    "from sklearn.ensemble import StackingClassifier\n",
    "from sklearn.linear_model import LogisticRegression\n",
    "from sklearn.tree import DecisionTreeClassifier\n",
    "estimators = [\n",
    "    ('LogReg', LogisticRegression(max_iter=1000)),\n",
    "    ('Tree', DecisionTreeClassifier())\n",
    "]\n",
    "clf=StackingClassifier(estimators=estimators, final_estimator=LogisticRegression(max_iter=1000))"
   ]
  },
  {
   "cell_type": "code",
   "execution_count": 12,
   "id": "0c27d628",
   "metadata": {},
   "outputs": [
    {
     "name": "stdout",
     "output_type": "stream",
     "text": [
      "accuracy =  0.9653179190751445\n"
     ]
    }
   ],
   "source": [
    "clf.fit(x_train, y_train)\n",
    "y_pred = clf.predict(x_test)\n",
    "\n",
    "print(\"accuracy = \", accuracy_score(y_pred, y_test))"
   ]
  },
  {
   "cell_type": "markdown",
   "id": "51e001cd-07c5-4b88-9ab8-4b0d029dbba2",
   "metadata": {},
   "source": [
    "# Пример катбуста"
   ]
  },
  {
   "cell_type": "code",
   "execution_count": 13,
   "id": "f2a5a8ba-1a82-43c3-9dd4-128a8e8681b9",
   "metadata": {
    "tags": []
   },
   "outputs": [
    {
     "name": "stdout",
     "output_type": "stream",
     "text": [
      "Requirement already satisfied: catboost in /Users/svkov42/miniconda3/envs/ds/lib/python3.9/site-packages (1.2.2)\n",
      "Requirement already satisfied: graphviz in /Users/svkov42/miniconda3/envs/ds/lib/python3.9/site-packages (from catboost) (0.20.1)\n",
      "Requirement already satisfied: matplotlib in /Users/svkov42/miniconda3/envs/ds/lib/python3.9/site-packages (from catboost) (3.5.1)\n",
      "Requirement already satisfied: numpy>=1.16.0 in /Users/svkov42/miniconda3/envs/ds/lib/python3.9/site-packages (from catboost) (1.22.4)\n",
      "Requirement already satisfied: pandas>=0.24 in /Users/svkov42/miniconda3/envs/ds/lib/python3.9/site-packages (from catboost) (1.4.3)\n",
      "Requirement already satisfied: scipy in /Users/svkov42/miniconda3/envs/ds/lib/python3.9/site-packages (from catboost) (1.7.3)\n",
      "Requirement already satisfied: plotly in /Users/svkov42/miniconda3/envs/ds/lib/python3.9/site-packages (from catboost) (5.17.0)\n",
      "Requirement already satisfied: six in /Users/svkov42/miniconda3/envs/ds/lib/python3.9/site-packages (from catboost) (1.16.0)\n",
      "Requirement already satisfied: python-dateutil>=2.8.1 in /Users/svkov42/miniconda3/envs/ds/lib/python3.9/site-packages (from pandas>=0.24->catboost) (2.8.2)\n",
      "Requirement already satisfied: pytz>=2020.1 in /Users/svkov42/miniconda3/envs/ds/lib/python3.9/site-packages (from pandas>=0.24->catboost) (2023.3.post1)\n",
      "Requirement already satisfied: cycler>=0.10 in /Users/svkov42/miniconda3/envs/ds/lib/python3.9/site-packages (from matplotlib->catboost) (0.11.0)\n",
      "Requirement already satisfied: fonttools>=4.22.0 in /Users/svkov42/miniconda3/envs/ds/lib/python3.9/site-packages (from matplotlib->catboost) (4.25.0)\n",
      "Requirement already satisfied: kiwisolver>=1.0.1 in /Users/svkov42/miniconda3/envs/ds/lib/python3.9/site-packages (from matplotlib->catboost) (1.4.4)\n",
      "Requirement already satisfied: packaging>=20.0 in /Users/svkov42/miniconda3/envs/ds/lib/python3.9/site-packages (from matplotlib->catboost) (23.2)\n",
      "Requirement already satisfied: pillow>=6.2.0 in /Users/svkov42/miniconda3/envs/ds/lib/python3.9/site-packages (from matplotlib->catboost) (10.2.0)\n",
      "Requirement already satisfied: pyparsing>=2.2.1 in /Users/svkov42/miniconda3/envs/ds/lib/python3.9/site-packages (from matplotlib->catboost) (3.0.9)\n",
      "Requirement already satisfied: tenacity>=6.2.0 in /Users/svkov42/miniconda3/envs/ds/lib/python3.9/site-packages (from plotly->catboost) (8.2.3)\n"
     ]
    }
   ],
   "source": [
    "! pip install catboost"
   ]
  },
  {
   "cell_type": "code",
   "execution_count": 14,
   "id": "2fda579d-063c-4284-b1d6-cf597e1c4b5c",
   "metadata": {},
   "outputs": [],
   "source": [
    "from catboost import CatBoostClassifier"
   ]
  },
  {
   "cell_type": "code",
   "execution_count": 15,
   "id": "0f34fd4b-90e8-45f6-8102-ab76e16a5d7f",
   "metadata": {
    "tags": []
   },
   "outputs": [
    {
     "name": "stdout",
     "output_type": "stream",
     "text": [
      "Learning rate set to 0.08018\n",
      "0:\tlearn: 1.2784773\ttotal: 59.9ms\tremaining: 59.9s\n",
      "100:\tlearn: 0.1791260\ttotal: 506ms\tremaining: 4.5s\n",
      "200:\tlearn: 0.1249961\ttotal: 1s\tremaining: 3.99s\n",
      "300:\tlearn: 0.0919400\ttotal: 1.52s\tremaining: 3.53s\n",
      "400:\tlearn: 0.0698144\ttotal: 2.03s\tremaining: 3.03s\n",
      "500:\tlearn: 0.0547819\ttotal: 2.54s\tremaining: 2.53s\n",
      "600:\tlearn: 0.0427443\ttotal: 3.03s\tremaining: 2.01s\n",
      "700:\tlearn: 0.0344383\ttotal: 3.52s\tremaining: 1.5s\n",
      "800:\tlearn: 0.0292093\ttotal: 4.01s\tremaining: 996ms\n",
      "900:\tlearn: 0.0245475\ttotal: 4.51s\tremaining: 495ms\n",
      "999:\tlearn: 0.0214369\ttotal: 5s\tremaining: 0us\n"
     ]
    },
    {
     "data": {
      "text/plain": [
       "<catboost.core.CatBoostClassifier at 0x140a243d0>"
      ]
     },
     "execution_count": 15,
     "metadata": {},
     "output_type": "execute_result"
    }
   ],
   "source": [
    "from sklearn.model_selection import train_test_split\n",
    "from sklearn.metrics import accuracy_score, balanced_accuracy_score\n",
    "\n",
    "x_train, x_test, y_train, y_test = train_test_split(df.drop('decision', axis=1), df['decision'])\n",
    "\n",
    "model = CatBoostClassifier(metric_period=100)\n",
    "model.fit(x_train, y_train, cat_features=x_train.columns.tolist())"
   ]
  },
  {
   "cell_type": "code",
   "execution_count": 16,
   "id": "6dc14cd4-2e40-4627-af0f-0829a2fa6f12",
   "metadata": {
    "tags": []
   },
   "outputs": [
    {
     "data": {
      "text/plain": [
       "(0.9930555555555556, 0.9916666666666667)"
      ]
     },
     "execution_count": 16,
     "metadata": {},
     "output_type": "execute_result"
    }
   ],
   "source": [
    "y_pred = model.predict(x_test)\n",
    "accuracy_score(y_pred, y_test), balanced_accuracy_score(y_pred, y_test)"
   ]
  },
  {
   "cell_type": "code",
   "execution_count": null,
   "id": "d4cf38a7-9aa1-49bf-b2d2-75f8873a4a22",
   "metadata": {},
   "outputs": [],
   "source": []
  }
 ],
 "metadata": {
  "kernelspec": {
   "display_name": "Python 3 (ipykernel)",
   "language": "python",
   "name": "python3"
  },
  "language_info": {
   "codemirror_mode": {
    "name": "ipython",
    "version": 3
   },
   "file_extension": ".py",
   "mimetype": "text/x-python",
   "name": "python",
   "nbconvert_exporter": "python",
   "pygments_lexer": "ipython3",
   "version": "3.9.19"
  }
 },
 "nbformat": 4,
 "nbformat_minor": 5
}
