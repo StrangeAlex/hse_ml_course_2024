{
 "cells": [
  {
   "cell_type": "code",
   "execution_count": null,
   "id": "f0c59cd7-303a-49d1-a893-02f5df56eb53",
   "metadata": {},
   "outputs": [],
   "source": [
    "import pandas as pd\n",
    "import numpy as np\n",
    "import os"
   ]
  },
  {
   "cell_type": "markdown",
   "id": "bf303021-b745-4946-800e-cab60b12d501",
   "metadata": {},
   "source": [
    "# Учимся отличать код от не-кода\n",
    "\n",
    "В `data/chats` лежат тексты сообщений в телеграме из чатиков по программированию. Чатики и сообщения анонимизированы, сообщения идут в случайном порядке. Пример чатика: https://t.me/clojure_ru\n",
    "\n",
    "Возможно, на занятии получится не очень большое качество. Цель занятия - упростить домашку."
   ]
  },
  {
   "cell_type": "markdown",
   "id": "82919ae1-08a4-4405-a612-2f0a8e942c78",
   "metadata": {},
   "source": [
    "# Задача\n",
    "\n",
    "Получить датафрейм с колонками `text`, `language`, `has_code`\n",
    "\n",
    "Сообщения с кодом выделяются в тройные тильды (```)"
   ]
  },
  {
   "cell_type": "code",
   "execution_count": null,
   "id": "0c458d80-5ebd-419d-bc53-379a0cc3991a",
   "metadata": {},
   "outputs": [],
   "source": []
  },
  {
   "cell_type": "markdown",
   "id": "3611171c-64c7-42e2-b139-4e0dc43f70ca",
   "metadata": {},
   "source": [
    "# Задача\n",
    "\n",
    "Собрать датафрейм с колонками `text`, `is_code`"
   ]
  },
  {
   "cell_type": "code",
   "execution_count": null,
   "id": "e00317b5-5c49-451d-bba9-5c9a1554d9db",
   "metadata": {},
   "outputs": [],
   "source": []
  },
  {
   "cell_type": "markdown",
   "id": "c3360b0f-e984-4f1c-b0e8-2be8981497fd",
   "metadata": {},
   "source": [
    "# Задача\n",
    "\n",
    "Написать функцию, которая будет считать фичи.\n",
    "\n",
    "Для кода фичи будут значительно отличаться от обычного текста."
   ]
  },
  {
   "cell_type": "code",
   "execution_count": null,
   "id": "b0aee537-bea0-46aa-9684-9e84775fbe5c",
   "metadata": {},
   "outputs": [],
   "source": []
  },
  {
   "cell_type": "markdown",
   "id": "9a82fbe3-3b5b-43a7-b63b-fcd71f4f8ed4",
   "metadata": {},
   "source": [
    "# Задача\n",
    "\n",
    "Решите задачу классификации, оцените качество"
   ]
  },
  {
   "cell_type": "code",
   "execution_count": null,
   "id": "bf672631-00c5-4571-88fc-6b19b13f924e",
   "metadata": {},
   "outputs": [],
   "source": []
  },
  {
   "cell_type": "markdown",
   "id": "739d7ace-2f2c-423c-bb49-c6cc0fc7cd26",
   "metadata": {},
   "source": [
    "# Задача\n",
    "\n",
    "Упакуйте свое решение в скрипт. Формат как в ДЗ."
   ]
  },
  {
   "cell_type": "code",
   "execution_count": null,
   "id": "06e9b064-c16a-4e7b-998d-e00d910c4e03",
   "metadata": {},
   "outputs": [],
   "source": [
    "! python main.py code.txt"
   ]
  },
  {
   "cell_type": "markdown",
   "id": "afcd29ec-9199-4ba1-9817-63e39acb9b9a",
   "metadata": {},
   "source": [
    "## Полезные функции\n",
    "\n",
    "- `os.path.join(dir_name, path)` - соединить название папки и файла\n",
    "- `os.listdir(dir_name)` - возвращает список файлов и папок, которые лежат по этому пути\n",
    "- `os.isdir(path)` - проверяет, является ли файл директорией"
   ]
  },
  {
   "cell_type": "markdown",
   "id": "a8ae2ce7-2825-439f-8fa5-221c509e511b",
   "metadata": {},
   "source": [
    "# ДЗ 8\n",
    "\n",
    "В 2023 году проходил контест от Телеграма. Нужно было определять язык программирования по сниппету(*)\n",
    "\n",
    "https://contest.com/docs/ML-Competition-2023\n",
    "\n",
    "В этой домашке нужно будет решить упрощенную версию этого контеста.\n",
    "\n",
    "Ограничения:\n",
    "\n",
    "- Не более 4096 символов на входе\n",
    "- Не гарантируется, что код на входе синтаксически корректный\n",
    "- Не гарантируется, что на входе код\n",
    "\n",
    "Можно использовать любые модели и любые данные.\n",
    "\n",
    "Важно текстом описать ход решения - как собирали датасет, как процессили данные, какие метрики, какие модели выбрали и почему.\n",
    "\n",
    "Существует небольшой отложенный датасет, на котором можно будет проверить свое решение после дедлайна.\n",
    "\n",
    "**Совет: если будете скачивать чатики через скрипты, лучше заведите отдельный аккаунт для этого.**\n",
    "\n",
    "## Easy\n",
    "\n",
    "Учимся отличать код на Python, C++ и JavaScript от обычного текста на английском языке (Other).\n",
    "\n",
    "Собираем датасет, учим модели, собираем все в скрипт\n",
    "\n",
    "Должно работать так:\n",
    "\n",
    "```\n",
    "$ python main.py python_code.txt\n",
    "Python\n",
    "```\n",
    "\n",
    "Оставить по 3 примера на каждый язык, на которых проверяете решение. Текстовые файлики приложить в репозиторий.\n",
    "\n",
    "## Medium\n",
    "\n",
    "Количество языков расширяется до 10\n",
    "\n",
    "- Python\n",
    "- C++\n",
    "- JavaScript\n",
    "- Java\n",
    "- Yaml\n",
    "- Bash\n",
    "- Markdown\n",
    "- C\n",
    "- Kotlin\n",
    "- Haskell\n",
    "\n",
    "Какие выводы можно сделать по данным? \n",
    "\n",
    "## Hard\n",
    "\n",
    "Добавляется ограничение на скорость. Каждый запуск должен быть гарантированно не дольше 10мс.\n",
    "\n",
    "В этом харде можно писать код на любых языках.\n",
    "\n",
    "---\n",
    "\n",
    "(\\*) сниппетом называется все, что оборачивается в тройные тильды (```)"
   ]
  },
  {
   "cell_type": "code",
   "execution_count": null,
   "id": "d81da854-61ad-478a-ac90-04bfbfe1bf53",
   "metadata": {},
   "outputs": [],
   "source": []
  }
 ],
 "metadata": {
  "kernelspec": {
   "display_name": "Python 3 (ipykernel)",
   "language": "python",
   "name": "python3"
  },
  "language_info": {
   "codemirror_mode": {
    "name": "ipython",
    "version": 3
   },
   "file_extension": ".py",
   "mimetype": "text/x-python",
   "name": "python",
   "nbconvert_exporter": "python",
   "pygments_lexer": "ipython3",
   "version": "3.9.19"
  }
 },
 "nbformat": 4,
 "nbformat_minor": 5
}
