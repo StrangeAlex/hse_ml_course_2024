{
 "cells": [
  {
   "cell_type": "markdown",
   "id": "bcdb57ee-3f8e-4a56-82eb-71f089f4a0f0",
   "metadata": {},
   "source": [
    "# Методы оптимизации"
   ]
  },
  {
   "cell_type": "code",
   "execution_count": 1,
   "id": "d71ba777-8857-4009-8a4b-e100d3bcc99c",
   "metadata": {},
   "outputs": [
    {
     "name": "stderr",
     "output_type": "stream",
     "text": [
      "/Users/svkov42/miniconda3/envs/ds/lib/python3.9/site-packages/scipy/__init__.py:146: UserWarning: A NumPy version >=1.16.5 and <1.23.0 is required for this version of SciPy (detected version 1.26.1\n",
      "  warnings.warn(f\"A NumPy version >={np_minversion} and <{np_maxversion}\"\n"
     ]
    }
   ],
   "source": [
    "import pandas as pd\n",
    "import numpy as np\n",
    "import matplotlib.pyplot as plt\n",
    "\n",
    "from scipy.optimize import minimize\n",
    "from sklearn.datasets import make_regression"
   ]
  },
  {
   "cell_type": "markdown",
   "id": "cc62a4fc-83e8-4257-a527-16762f6fa99a",
   "metadata": {},
   "source": [
    "Минимизируем функцию $f(x)=x^2-3x+2$"
   ]
  },
  {
   "cell_type": "code",
   "execution_count": 2,
   "id": "a04ddddb-67db-4fcf-86c0-f992d6d52cf5",
   "metadata": {},
   "outputs": [],
   "source": [
    "def f(x):\n",
    "    return x ** 2 - 3 * x + 2"
   ]
  },
  {
   "cell_type": "markdown",
   "id": "bc755c7f-20fa-4b0b-91b4-bb30bca9ce74",
   "metadata": {},
   "source": [
    "Производная функции: $f'(x)=2x-3$\n",
    "\n",
    "$f'(x)=0 $\n",
    "\n",
    "$x_{min} = \\frac{3}{2}$\n",
    "\n",
    "Проверим численно:"
   ]
  },
  {
   "cell_type": "code",
   "execution_count": 3,
   "id": "782e2282-f62d-4aa5-857f-1a3484541128",
   "metadata": {},
   "outputs": [
    {
     "data": {
      "text/plain": [
       "      fun: -0.25\n",
       " hess_inv: array([[0.49999999]])\n",
       "      jac: array([0.])\n",
       "  message: 'Optimization terminated successfully.'\n",
       "     nfev: 10\n",
       "      nit: 4\n",
       "     njev: 5\n",
       "   status: 0\n",
       "  success: True\n",
       "        x: array([1.49999999])"
      ]
     },
     "execution_count": 3,
     "metadata": {},
     "output_type": "execute_result"
    }
   ],
   "source": [
    "x_start = 10\n",
    "minimize(f, (x_start,))"
   ]
  },
  {
   "cell_type": "code",
   "execution_count": 4,
   "id": "790e2888-6b33-43d4-a283-269544940535",
   "metadata": {},
   "outputs": [
    {
     "data": {
      "text/plain": [
       "[<matplotlib.lines.Line2D at 0x147550c70>]"
      ]
     },
     "execution_count": 4,
     "metadata": {},
     "output_type": "execute_result"
    },
    {
     "data": {
      "image/png": "[encoded data removed]",
      "text/plain": [
       "<Figure size 432x288 with 1 Axes>"
      ]
     },
     "metadata": {
      "needs_background": "light"
     },
     "output_type": "display_data"
    }
   ],
   "source": [
    "x = np.linspace(-1, 4, 1000)\n",
    "y = f(x)\n",
    "minimum = np.ones_like(x) * -0.25\n",
    "\n",
    "plt.plot(x, y)\n",
    "plt.plot(x, minimum, '--')"
   ]
  },
  {
   "cell_type": "markdown",
   "id": "30dcdacf-c4f4-4885-800f-1fafc2678164",
   "metadata": {},
   "source": [
    "## Задача\n",
    "\n",
    "Максимизировать функцию $g(x)=-x^5 - 10x^4 + 5x^3 + 10$\n",
    "\n",
    "P.S. функции `maximize` нет в `scipy`"
   ]
  },
  {
   "cell_type": "code",
   "execution_count": null,
   "id": "262eda2a-7c91-4967-b10b-69205616d516",
   "metadata": {},
   "outputs": [],
   "source": []
  },
  {
   "cell_type": "markdown",
   "id": "d5431dcf-e0e9-47d2-8509-b37e663b136c",
   "metadata": {},
   "source": [
    "## Функция нескольких переменных"
   ]
  },
  {
   "cell_type": "code",
   "execution_count": 5,
   "id": "065a1e7f-6d6a-47af-8544-b6b0ecf04865",
   "metadata": {},
   "outputs": [
    {
     "data": {
      "text/plain": [
       "      fun: 9.714371423329325e-13\n",
       " hess_inv: array([[ 0.75000002, -0.24999998],\n",
       "       [-0.24999998,  0.75000002]])\n",
       "      jac: array([-1.37896909e-06, -1.37896909e-06])\n",
       "  message: 'Optimization terminated successfully.'\n",
       "     nfev: 12\n",
       "      nit: 2\n",
       "     njev: 4\n",
       "   status: 0\n",
       "  success: True\n",
       "        x: array([-6.96935126e-07, -6.96935127e-07])"
      ]
     },
     "execution_count": 5,
     "metadata": {},
     "output_type": "execute_result"
    }
   ],
   "source": [
    "def f(x, y):\n",
    "    return x ** 2 + y ** 2\n",
    "\n",
    "x_start = [10, 10]\n",
    "minimize(lambda x: f(x[0], x[1]), (x_start,))"
   ]
  },
  {
   "cell_type": "markdown",
   "id": "84c30dd5-b20f-49b8-a7da-15f6313650c9",
   "metadata": {},
   "source": [
    "## Напишем свою линейную регрессию\n",
    "\n",
    "На основе SGD"
   ]
  },
  {
   "cell_type": "code",
   "execution_count": 6,
   "id": "730a0fe9-51e4-4ab6-961e-58e61e3c1168",
   "metadata": {},
   "outputs": [],
   "source": [
    "n = 10000\n",
    "m = 4\n",
    "bias = 10\n",
    "x, y, coef = make_regression(n, m - 1, bias=bias, coef=True)\n",
    "coef = np.hstack(([bias], coef)).reshape(-1, 1)\n",
    "y = y.reshape(-1, 1)"
   ]
  },
  {
   "cell_type": "code",
   "execution_count": 7,
   "id": "c70a5d7d-3924-48b8-af8f-dbd20481a6e9",
   "metadata": {},
   "outputs": [
    {
     "data": {
      "text/plain": [
       "array([[10.        ],\n",
       "       [83.39077246],\n",
       "       [76.01088575],\n",
       "       [55.23013437]])"
      ]
     },
     "execution_count": 7,
     "metadata": {},
     "output_type": "execute_result"
    }
   ],
   "source": [
    "coef"
   ]
  },
  {
   "cell_type": "markdown",
   "id": "43791b1f-068d-4276-8ae4-1716c06d8be1",
   "metadata": {},
   "source": [
    "Нарисуем данные"
   ]
  },
  {
   "cell_type": "code",
   "execution_count": 8,
   "id": "a94df9f6-9dd7-4d58-b761-9e0b66c68cab",
   "metadata": {},
   "outputs": [
    {
     "data": {
      "image/png": "[encoded data removed]",
      "text/plain": [
       "<Figure size 864x360 with 3 Axes>"
      ]
     },
     "metadata": {
      "needs_background": "light"
     },
     "output_type": "display_data"
    }
   ],
   "source": [
    "figure, axes = plt.subplots(1, m - 1)\n",
    "figure.set_figheight(5)\n",
    "figure.set_figwidth(12)\n",
    "for i in range(1, m):\n",
    "    axes[i - 1].scatter(x[:, i - 1], y)\n",
    "    axes[i - 1].set_title(i)"
   ]
  },
  {
   "cell_type": "markdown",
   "id": "4e16ae4e-a4fe-4f24-8b10-d64f9ab70fa9",
   "metadata": {},
   "source": [
    "Проверим веса по готовой линейной регрессии"
   ]
  },
  {
   "cell_type": "code",
   "execution_count": 9,
   "id": "0c3b9b0a-29fe-48e5-bae2-b44bc31d8d04",
   "metadata": {},
   "outputs": [
    {
     "data": {
      "text/plain": [
       "(array([[83.39077246, 76.01088575, 55.23013437]]), array([10.]))"
      ]
     },
     "execution_count": 9,
     "metadata": {},
     "output_type": "execute_result"
    }
   ],
   "source": [
    "from sklearn.linear_model import LinearRegression\n",
    "model = LinearRegression()\n",
    "model.fit(x, y)\n",
    "model.coef_, model.intercept_"
   ]
  },
  {
   "cell_type": "markdown",
   "id": "efbafc43-23c2-423d-a16d-d2bc347acd26",
   "metadata": {},
   "source": [
    "В качестве нулевой колонки поставим вектор из единиц для удобства"
   ]
  },
  {
   "cell_type": "code",
   "execution_count": 10,
   "id": "fe281657-f196-4e23-a849-2acfe411041d",
   "metadata": {},
   "outputs": [
    {
     "data": {
      "text/plain": [
       "(10000, 4)"
      ]
     },
     "execution_count": 10,
     "metadata": {},
     "output_type": "execute_result"
    }
   ],
   "source": [
    "x_ones = np.ones((n, 1))\n",
    "x = np.hstack((x_ones, x))\n",
    "x.shape"
   ]
  },
  {
   "cell_type": "markdown",
   "id": "c4f90827-53d8-4767-bde0-b946941ef52e",
   "metadata": {},
   "source": [
    "## Задача\n",
    "\n",
    "Научимся применять модель с любыми весами"
   ]
  },
  {
   "cell_type": "code",
   "execution_count": 11,
   "id": "c3d25d8c-7b53-4002-a68e-855b657fc3d4",
   "metadata": {},
   "outputs": [],
   "source": [
    "def forward(X, w):\n",
    "    # Ваш код здесь\n",
    "    pass"
   ]
  },
  {
   "cell_type": "code",
   "execution_count": 12,
   "id": "b5c0bc41-68e3-4387-ade1-8c7aa25ab999",
   "metadata": {},
   "outputs": [
    {
     "name": "stdout",
     "output_type": "stream",
     "text": [
      "Прогноз для нулей\n",
      "[0. 0. 0. 0. 0.]\n",
      "Прогноз для единиц\n",
      "[-0.20938348 -0.0481995   2.52810324  0.57581563  1.39680818]\n",
      "Прогноз линейной регрессии\n",
      "[-111.59844179  -41.84762029  108.63023992   11.5923359    50.27462565]\n"
     ]
    }
   ],
   "source": [
    "w = np.zeros((m, 1))\n",
    "print(f'Прогноз для нулей\\n{forward(x, w)[:5].flatten()}')\n",
    "\n",
    "w = np.ones((m, 1))\n",
    "print(f'Прогноз для единиц\\n{forward(x, w)[:5].flatten()}')\n",
    "\n",
    "w = coef.copy()\n",
    "print(f'Прогноз линейной регрессии\\n{forward(x, w)[:5].flatten()}')"
   ]
  },
  {
   "cell_type": "markdown",
   "id": "9b24f15c-fa62-4322-b4e7-38fbbcabc645",
   "metadata": {},
   "source": [
    "## Задача\n",
    "\n",
    "Написать лосс-функцию для линейной регрессии"
   ]
  },
  {
   "cell_type": "code",
   "execution_count": 13,
   "id": "21832ecc-06c2-4284-9efd-41e6c13c60aa",
   "metadata": {},
   "outputs": [],
   "source": [
    "def loss(X, y, w):\n",
    "    # Ваш код здесь\n",
    "    pass"
   ]
  },
  {
   "cell_type": "code",
   "execution_count": 14,
   "id": "52630f12-a3a8-45d7-95e5-a4ecfd51059a",
   "metadata": {},
   "outputs": [
    {
     "name": "stdout",
     "output_type": "stream",
     "text": [
      "Лосс большой 15780.88\n",
      "Лосс поменбше 15341.02\n",
      "Лосс ваще маленький жесть 0.00\n"
     ]
    }
   ],
   "source": [
    "w = np.zeros((m, 1))\n",
    "print(f'Лосс большой {loss(x, y, w):.2f}')\n",
    "\n",
    "w = np.ones((m, 1))\n",
    "print(f'Лосс поменбше {loss(x, y, w):.2f}')\n",
    "\n",
    "w = coef.copy()\n",
    "print(f'Лосс ваще маленький жесть {loss(x, y, w):.2f}')"
   ]
  },
  {
   "cell_type": "markdown",
   "id": "ef43ed07-e9f7-4d00-9e0f-b49f97c48229",
   "metadata": {},
   "source": [
    "## Задача\n",
    "\n",
    "Написать градиент лосс-функции\n",
    "\n",
    "Есть два варианта, выбираем какой больше нравится:\n",
    "\n",
    "- Аналитический\n",
    "- Численный\n",
    "\n",
    "Формула для аналитического градиента:\n",
    "\n",
    "$$\n",
    "\\frac{2}{N} X^T(\\hat{y} - y)\n",
    "$$"
   ]
  },
  {
   "cell_type": "code",
   "execution_count": 15,
   "id": "91d8d532-fdf4-44a5-a6bf-3e7c8bf0771e",
   "metadata": {},
   "outputs": [],
   "source": [
    "def grad_loss(X, y, w):\n",
    "    # Ваш код здесь\n",
    "    pass\n",
    "\n",
    "def grad_norm(X, y, w):\n",
    "    return np.linalg.norm(grad_loss(X, y, w))"
   ]
  },
  {
   "cell_type": "code",
   "execution_count": 16,
   "id": "bbaff286-ae27-4a39-82aa-a5c98ea97235",
   "metadata": {},
   "outputs": [
    {
     "name": "stdout",
     "output_type": "stream",
     "text": [
      "Градиент большой [[ -17.33855468]\n",
      " [-166.4196125 ]\n",
      " [-151.49515046]\n",
      " [-108.55019755]]\n",
      "Градиент поменбше [[ -15.37817811]\n",
      " [-164.42906181]\n",
      " [-149.52407243]\n",
      " [-106.58781229]]\n",
      "Градиент ваще маленький жесть [[ 9.25481913e-17]\n",
      " [-3.05432615e-16]\n",
      " [-1.47219102e-16]\n",
      " [ 6.25315403e-17]]\n"
     ]
    }
   ],
   "source": [
    "w = np.zeros((m, 1))\n",
    "print(f'Градиент большой {grad_loss(x, y, w)}')\n",
    "\n",
    "w = np.ones((m, 1))\n",
    "print(f'Градиент поменбше {grad_loss(x, y, w)}')\n",
    "\n",
    "w = coef.copy()\n",
    "print(f'Градиент ваще маленький жесть {grad_loss(x, y, w)}')"
   ]
  },
  {
   "cell_type": "code",
   "execution_count": 24,
   "id": "8d508b0d-5fcd-4632-966a-736a72ac39d7",
   "metadata": {},
   "outputs": [
    {
     "name": "stdout",
     "output_type": "stream",
     "text": [
      "Норма градиента большая 250.4596552479365\n",
      "Норма градиента поменбше 246.9652094774357\n",
      "Норма градиента ваще маленький жесть 3.5698446427503734e-16\n"
     ]
    }
   ],
   "source": [
    "w = np.zeros((m, 1))\n",
    "print(f'Норма градиента большая {grad_norm(x, y, w)}')\n",
    "\n",
    "w = np.ones((m, 1))\n",
    "print(f'Норма градиента поменбше {grad_norm(x, y, w)}')\n",
    "\n",
    "w = coef.copy()\n",
    "print(f'Норма градиента ваще маленький жесть {grad_norm(x, y, w)}')"
   ]
  },
  {
   "cell_type": "markdown",
   "id": "1944dbfe-1266-49fa-9cac-6221880c78b6",
   "metadata": {},
   "source": [
    "## Задача\n",
    "\n",
    "На каждом шаге SGD нам нужно будет выбирать случайную строку (или несколько строк) из датасета.\n",
    "\n",
    "Напишем эту функцию"
   ]
  },
  {
   "cell_type": "code",
   "execution_count": 18,
   "id": "19177fc9-2b09-4c41-a529-1def8c8344d6",
   "metadata": {},
   "outputs": [],
   "source": [
    "def random_row(x ,y):\n",
    "    # Ваш код здесь\n",
    "    pass"
   ]
  },
  {
   "cell_type": "code",
   "execution_count": null,
   "id": "ec784f64-3cc3-4621-a5b3-eef35a836267",
   "metadata": {},
   "outputs": [],
   "source": []
  },
  {
   "cell_type": "markdown",
   "id": "b220c963-dc89-4ff4-ba79-ca8b07ad4574",
   "metadata": {},
   "source": [
    "## Задача\n",
    "\n",
    "Напишем один шаг градиентного спуска. На вход находим оптимальные веса для переданных `x_k` и `y_k`"
   ]
  },
  {
   "cell_type": "code",
   "execution_count": 25,
   "id": "dc1a2815-0bdb-4aed-bb4a-1b4010b5475a",
   "metadata": {},
   "outputs": [],
   "source": [
    "def sgd_one_step(x_k, y_k, w, n_iter=100):\n",
    "    # Ваш код здесь\n",
    "    pass"
   ]
  },
  {
   "cell_type": "markdown",
   "id": "3645deb4-4b77-4ffd-a0ac-30ba65d5251a",
   "metadata": {},
   "source": [
    "## Задача\n",
    "\n",
    "Напишем целый SGD. На каждом шаге цикла будем вызывать `random_row` и оптимизироваться по этим строкам."
   ]
  },
  {
   "cell_type": "code",
   "execution_count": 26,
   "id": "c4f8f872-078c-4061-8a8f-c0962033fc0d",
   "metadata": {},
   "outputs": [],
   "source": [
    "def sgd_full(x, y, w_start, n_iters=1000, lr=0.1):\n",
    "    # Ваш код здесь\n",
    "    pass"
   ]
  },
  {
   "cell_type": "code",
   "execution_count": 21,
   "id": "9c781978-6087-4248-be3c-d945c578b45e",
   "metadata": {},
   "outputs": [],
   "source": [
    "w = np.random.normal(size=(m, 1))\n",
    "lr = 0.001"
   ]
  },
  {
   "cell_type": "code",
   "execution_count": 22,
   "id": "0446b42d-d29f-4ba6-be24-0b0730649ecc",
   "metadata": {},
   "outputs": [
    {
     "data": {
      "text/plain": [
       "array([[10.00398229],\n",
       "       [83.39177516],\n",
       "       [76.01225519],\n",
       "       [55.23008722]])"
      ]
     },
     "execution_count": 22,
     "metadata": {},
     "output_type": "execute_result"
    }
   ],
   "source": [
    "w = sgd_full(x, y, w, 1000, lr)\n",
    "w"
   ]
  },
  {
   "cell_type": "code",
   "execution_count": 23,
   "id": "bae987e0-821a-49ae-a60c-d2c11f50becb",
   "metadata": {},
   "outputs": [
    {
     "data": {
      "text/plain": [
       "array([[10.        ],\n",
       "       [83.39077246],\n",
       "       [76.01088575],\n",
       "       [55.23013437]])"
      ]
     },
     "execution_count": 23,
     "metadata": {},
     "output_type": "execute_result"
    }
   ],
   "source": [
    "coef"
   ]
  },
  {
   "cell_type": "code",
   "execution_count": null,
   "id": "3ac89d42-9a5b-4e09-8682-e639ca822824",
   "metadata": {},
   "outputs": [],
   "source": []
  }
 ],
 "metadata": {
  "kernelspec": {
   "display_name": "Python 3 (ipykernel)",
   "language": "python",
   "name": "python3"
  },
  "language_info": {
   "codemirror_mode": {
    "name": "ipython",
    "version": 3
   },
   "file_extension": ".py",
   "mimetype": "text/x-python",
   "name": "python",
   "nbconvert_exporter": "python",
   "pygments_lexer": "ipython3",
   "version": "3.9.12"
  }
 },
 "nbformat": 4,
 "nbformat_minor": 5
}
